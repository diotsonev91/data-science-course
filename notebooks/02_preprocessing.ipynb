{
 "cells": [
  {
   "cell_type": "markdown",
   "id": "cb052571-2e72-4f21-9763-dbb6abaff486",
   "metadata": {},
   "source": [
    "# Step 2: Image Preprocessing & Dataset Loading\n",
    "\n",
    "In this step we standardize images and build loaders for three sources:\n",
    "\n",
    "- **Fruits 360** (studio, 100×100, RGB → our grayscale pipeline)\n",
    "- **Fruits Fresh & Rotten** — fresh-only (in-the-wild; used for domain evaluation)\n",
    "- **Fruit-262** (our own split; used for domain evaluation and/or extra classes)\n",
    "\n",
    "All inputs are padded to a square and then resized to 100×100 during loading, ensuring consistent tensors (N, C, 100, 100) across datasets.\n",
    "\n",
    "## 2.1 Project Hypotheses Supported\n",
    "\n",
    "- **Grayscale Hypothesis** — Grayscale (+ equalization) can match RGB while using fewer resources\n",
    "- **Model Simplicity Hypothesis** — A small CNN can approach MobileNetV2 with far fewer params\n",
    "- **Quantization Hypothesis** — PTQ (fp32→int8) speeds inference and shrinks size with minimal accuracy loss\n",
    "\n",
    "Training data uses grayscale-specific augmentations; validation/test remain clean.\n",
    "\n",
    "## 2.2 Preprocessing Strategy\n",
    "\n",
    "**Train (augmented):** Grayscale + equalize → random flip/affine/jitter/perspective/shear → PadToSquare → Resize(100×100) → Normalize to [-1,1]\n",
    "\n",
    "**Val/Test (clean):** Grayscale + equalize → PadToSquare → Resize(100×100) → Normalize\n",
    "\n",
    "**Dataset-size normalization:** To match Fruits360 scale (≈200–220/class), we cap the training portions of Fresh-only and Fruit-262 to ~200 images per class (seed=42). Val/Test stay untouched.\n",
    "\n",
    "## 2.3 Dataset Loading and Splitting\n",
    "\n",
    "- **Fruits360:** use Training/ (split 80/20 into train/val deterministically) + provided Test/\n",
    "- **Fresh-only:** evaluation loader; labels remapped (e.g., freshapples → Apple) to match the canonical class order from Fruits360\n",
    "- **Fruit-262:** use our generated train/val/test split; loaders aligned to the same canonical class order\n",
    "\n",
    "We also compute class weights on Fruits360 train for CrossEntropyLoss. Metrics (incl. Macro-F1) are computed in later steps.\n",
    "\n",
    "## 2.4 Visualization of Preprocessed Samples\n",
    "\n",
    "We show a small batch from the Fruits360 training loader to confirm transforms.\n",
    "\n",
    "## 2.5 Summary\n",
    "\n",
    "This step delivers:\n",
    "\n",
    "- Uniform 100×100 grayscale tensors via Pad→Resize for all datasets\n",
    "- Augmented training + clean val/test pipelines\n",
    "- Balanced training counts via capping (~200/class) for non-Fruits360 sources\n",
    "- Canonical, aligned label space across domains\n",
    "\n"
   ]
  },
  {
   "cell_type": "code",
   "execution_count": 11,
   "id": "0b22fc04-5a20-4347-afac-e3fe47c5fa63",
   "metadata": {
    "tags": []
   },
   "outputs": [],
   "source": [
    "import os, sys, json, torch\n",
    "sys.path.append(os.path.abspath(\"../src\"))\n",
    "from viz import show_batch\n",
    "\n",
    "from utils import seed_everything, ensure_dir\n",
    "from data import (\n",
    "    make_dataloaders,          # Fruits360 loaders (train/val/test)\n",
    "    make_canonical_loader,     # Domain loaders aligned to canonical classes\n",
    "    build_domain_loaders,      # convenience wrapper\n",
    "    cap_per_class,             # cap large domains to ~200/class\n",
    ")\n",
    "\n"
   ]
  },
  {
   "cell_type": "code",
   "execution_count": 12,
   "id": "0c49ac6d-e607-404d-a990-dea98fb7cf1b",
   "metadata": {
    "scrolled": true,
    "tags": []
   },
   "outputs": [
    {
     "name": "stdout",
     "output_type": "stream",
     "text": [
      "[INFO] Global seed set to 42\n"
     ]
    },
    {
     "data": {
      "text/plain": [
       "WindowsPath('../reports/figures')"
      ]
     },
     "execution_count": 12,
     "metadata": {},
     "output_type": "execute_result"
    }
   ],
   "source": [
    "TRAIN_DIR = '../Dataset/Training'\n",
    "TEST_DIR  = '../Dataset/Test'\n",
    "os.makedirs(\"../reports/figures\", exist_ok=True)\n",
    "\n",
    "\n",
    "seed_everything(42)\n",
    "\n",
    "# Paths\n",
    "FR360_TRAIN = \"../Dataset/Training\"\n",
    "FR360_TEST  = \"../Dataset/Test\"\n",
    "\n",
    "FRESH_TRAIN = \"../Dataset-hybrid/fresh_rotten/train\"   # use only fresh* folders\n",
    "F262_SPLIT  = \"../Dataset-hybrid/fruit262_split\"       # has train/val/test\n",
    "\n",
    "ensure_dir(\"../reports/figures\")\n",
    "\n"
   ]
  },
  {
   "cell_type": "markdown",
   "id": "6a3c65e4-7733-4dc2-82ea-1c9ab4a22d6f",
   "metadata": {},
   "source": [
    "#### Cap larger domains to ~200/class (train only)"
   ]
  },
  {
   "cell_type": "code",
   "execution_count": 13,
   "id": "6a573e6c-5c73-48a2-95be-1b91f5587f50",
   "metadata": {
    "tags": []
   },
   "outputs": [
    {
     "name": "stdout",
     "output_type": "stream",
     "text": [
      "[INFO] Capped Fresh-only + Fruit-262 train splits to 200/class.\n"
     ]
    }
   ],
   "source": [
    "CAP_PER_CLASS = 200\n",
    "cap_per_class(FRESH_TRAIN, CAP_PER_CLASS, seed=42)\n",
    "cap_per_class(os.path.join(F262_SPLIT, \"train\"), CAP_PER_CLASS, seed=42)\n",
    "print(f\"[INFO] Capped Fresh-only + Fruit-262 train splits to {CAP_PER_CLASS}/class.\")\n",
    "\n"
   ]
  },
  {
   "cell_type": "markdown",
   "id": "81779a65-aaf1-45c8-9f76-abd464832d21",
   "metadata": {},
   "source": [
    "#### Fruits360 loaders (train/val/test) with grayscale aug"
   ]
  },
  {
   "cell_type": "code",
   "execution_count": 14,
   "id": "da203160-478b-4f53-9771-2764a859e800",
   "metadata": {
    "tags": []
   },
   "outputs": [
    {
     "name": "stdout",
     "output_type": "stream",
     "text": [
      "[INFO] Seed: 42\n",
      "[INFO] Mode: grayscale (in_channels=1, use_noise=False)\n",
      "[INFO] Classes (8): ['Apple Red 1', 'Avocado 1', 'Banana 1', 'Kiwi 1', 'Orange 1', 'Pineapple 1', 'Strawberry 1', 'Tomato 1']\n",
      "[INFO] Sizes -> train: 3260, val: 814, test: 1365\n",
      "[INFO] Class weights (mean≈1): [1.011 1.165 1.016 1.068 1.039 1.016 1.011 0.674]\n",
      "in_channels: 1\n",
      "Classes (canonical): ['Apple Red 1', 'Avocado 1', 'Banana 1', 'Kiwi 1', 'Orange 1', 'Pineapple 1', 'Strawberry 1', 'Tomato 1']\n",
      "Class weights (mean≈1): [1.011 1.165 1.016 1.068 1.039 1.016 1.011 0.674]\n"
     ]
    }
   ],
   "source": [
    "train_loader, val_loader, test_loader, class_weights, class_names, in_ch = make_dataloaders(\n",
    "    train_dir=FR360_TRAIN,\n",
    "    test_dir=FR360_TEST,\n",
    "    batch_size=32,\n",
    "    val_split=0.2,       # 80/20 from Fruits360 Training\n",
    "    img_size=100,\n",
    "    num_workers=0,       # safest on Windows\n",
    "    seed=42,\n",
    "    mode=\"grayscale\",\n",
    "    verbose=True\n",
    ")\n",
    "\n",
    "criterion = torch.nn.CrossEntropyLoss(weight=class_weights)\n",
    "print(\"in_channels:\", in_ch)\n",
    "print(\"Classes (canonical):\", class_names)\n",
    "print(\"Class weights (mean≈1):\", class_weights.numpy().round(3))"
   ]
  },
  {
   "cell_type": "markdown",
   "id": "87a76e2f-a671-4222-bc8f-28bddd3b2d29",
   "metadata": {},
   "source": [
    "#### Domain loaders: Fresh-only & Fruit-262 aligned to canonical classes"
   ]
  },
  {
   "cell_type": "code",
   "execution_count": 15,
   "id": "07bf6c60-8b26-41fe-9e1b-254f79ec74b9",
   "metadata": {
    "tags": []
   },
   "outputs": [
    {
     "name": "stdout",
     "output_type": "stream",
     "text": [
      "[INFO] Fresh-only eval samples: 600\n",
      "[INFO] Fruit-262 samples -> train: 1000 val: 1040 test: 1050\n"
     ]
    }
   ],
   "source": [
    "# --- Domain loaders with correct mapping to Fruits-360 class names (mode-aware) ---\n",
    "\n",
    "import os\n",
    "from pathlib import Path\n",
    "from data import build_domain_loaders\n",
    "\n",
    "# 1) Fresh & Rotten (fresh*) -> Fruits-360 canonical names\n",
    "FRESH_TO_FR360 = {\n",
    "    \"freshapples\":   \"Apple Red 1\",\n",
    "    \"freshbanana\":   \"Banana 1\",\n",
    "    \"freshoranges\":  \"Orange 1\",\n",
    "    # add more ONLY if you have the matching Fruits-360 class (e.g., \"Strawberry 1\", \"Tomato 1\")\n",
    "}\n",
    "\n",
    "# 2) Fruit-262 -> Fruits-360 canonical names\n",
    "# Make sure keys match the actual folder names under fruit262_split (usually lowercase)\n",
    "F262_TO_FR360 = {\n",
    "    \"Avocado\":    \"Avocado 1\",\n",
    "    \"Kiwi\":       \"Kiwi 1\",\n",
    "    \"Pineapple\":  \"Pineapple 1\",\n",
    "    \"Strawberry\": \"Strawberry 1\",\n",
    "    \"Tomato\":     \"Tomato 1\",\n",
    "}\n",
    "\n",
    "# Helper: keep only mappings whose raw folder exists on disk AND whose target is in our canonical list\n",
    "def filter_map_to_canon(raw2canon, root_dir, canon_list):\n",
    "    root = Path(root_dir)\n",
    "    raw_present = {d.name for d in root.iterdir() if d.is_dir()} if root.exists() else set()\n",
    "    canon_set = set(canon_list)\n",
    "    return {raw: canon for raw, canon in raw2canon.items() if (raw in raw_present and canon in canon_set)}\n",
    "\n",
    "FRESH_MAP = filter_map_to_canon(FRESH_TO_FR360, FRESH_TRAIN, class_names)\n",
    "F262_MAP  = filter_map_to_canon(F262_TO_FR360, os.path.join(F262_SPLIT, \"train\"), class_names)\n",
    "\n",
    "# 3) Build loaders (grayscale by default; switch mode=\"rgb\" if you want RGB tests)\n",
    "loaders = build_domain_loaders(\n",
    "    canonical_classes=class_names,\n",
    "    fresh_root=FRESH_TRAIN, fresh_map=FRESH_MAP,\n",
    "    f262_root=F262_SPLIT,  f262_map=F262_MAP,\n",
    "    mode=\"grayscale\",               # or \"rgb\"\n",
    "    batch_size=32, img_size=100, num_workers=0,\n",
    "    fresh_aug=False, f262_train_aug=False,\n",
    "    shuffle_fresh=False, shuffle_f262_train=False,\n",
    ")\n",
    "\n",
    "fresh_eval_loader = loaders[\"fresh_eval\"]\n",
    "f262_train_loader = loaders[\"f262_train\"]\n",
    "f262_val_loader   = loaders[\"f262_val\"]\n",
    "f262_test_loader  = loaders[\"f262_test\"]\n",
    "\n",
    "print(\"[INFO] Fresh-only eval samples:\", len(fresh_eval_loader.dataset))\n",
    "print(\"[INFO] Fruit-262 samples -> train:\", len(f262_train_loader.dataset),\n",
    "      \"val:\", len(f262_val_loader.dataset), \"test:\", len(f262_test_loader.dataset))\n",
    "\n"
   ]
  },
  {
   "cell_type": "code",
   "execution_count": 16,
   "id": "3060f899",
   "metadata": {
    "tags": []
   },
   "outputs": [],
   "source": [
    "#### Sanity check: confirm 100×100 everywhere"
   ]
  },
  {
   "cell_type": "code",
   "execution_count": 17,
   "id": "dd2ecf74",
   "metadata": {
    "tags": []
   },
   "outputs": [
    {
     "name": "stdout",
     "output_type": "stream",
     "text": [
      "[OK] Fruits360 train: batch=(32, 1, 100, 100), samples=3260\n",
      "[OK] Fruits360 val: batch=(32, 1, 100, 100), samples=814\n",
      "[OK] Fruits360 test: batch=(32, 1, 100, 100), samples=1365\n",
      "[OK] Fresh-only eval: batch=(32, 1, 100, 100), samples=600\n",
      "[OK] Fruit-262 test: batch=(32, 1, 100, 100), samples=1050\n"
     ]
    }
   ],
   "source": [
    "def assert_loader_size(loader, name, expected_hw=(100, 100)):\n",
    "    n = len(loader.dataset)\n",
    "    if n == 0:\n",
    "        print(f\"[SKIP] {name}: dataset is empty (0 samples).\")\n",
    "        return\n",
    "    x, _ = next(iter(loader))\n",
    "    assert tuple(x.shape[-2:]) == expected_hw, f\"{name} not {expected_hw}, got {x.shape}\"\n",
    "    print(f\"[OK] {name}: batch={tuple(x.shape)}, samples={n}\")\n",
    "\n",
    "# call it:\n",
    "assert_loader_size(train_loader,       \"Fruits360 train\")\n",
    "assert_loader_size(val_loader,         \"Fruits360 val\")\n",
    "assert_loader_size(test_loader,        \"Fruits360 test\")\n",
    "assert_loader_size(fresh_eval_loader,  \"Fresh-only eval\")\n",
    "assert_loader_size(f262_test_loader,   \"Fruit-262 test\")\n",
    "\n"
   ]
  },
  {
   "cell_type": "code",
   "execution_count": 18,
   "id": "8be9d3d2-7d46-4399-b66c-255f92cf6d4c",
   "metadata": {
    "tags": []
   },
   "outputs": [],
   "source": [
    "#### Visualize a batch"
   ]
  },
  {
   "cell_type": "code",
   "execution_count": 19,
   "id": "5cb101cc-8566-4706-bec9-5152365fa6e2",
   "metadata": {
    "tags": []
   },
   "outputs": [
    {
     "data": {
      "image/png": "[encoded data removed]",
      "text/plain": [
       "<Figure size 640x480 with 1 Axes>"
      ]
     },
     "metadata": {},
     "output_type": "display_data"
    },
    {
     "name": "stdout",
     "output_type": "stream",
     "text": [
      "Image 1: Strawberry 1\n",
      "Image 2: Strawberry 1\n",
      "Image 3: Kiwi 1\n",
      "Image 4: Avocado 1\n",
      "Image 5: Strawberry 1\n",
      "Image 6: Banana 1\n",
      "Image 7: Kiwi 1\n",
      "Image 8: Apple Red 1\n"
     ]
    }
   ],
   "source": [
    "images, labels = next(iter(train_loader))\n",
    "show_batch(images, labels, class_names, grayscale=True, n=8)"
   ]
  },
  {
   "cell_type": "code",
   "execution_count": 20,
   "id": "4408f7f8-5438-4b92-91d5-bfb8daca0ab4",
   "metadata": {
    "tags": []
   },
   "outputs": [
    {
     "name": "stdout",
     "output_type": "stream",
     "text": [
      "[INFO] Saved dataset_config.json\n"
     ]
    }
   ],
   "source": [
    "import json, os\n",
    "from utils import ensure_dir\n",
    "DATASET_CFG = {\n",
    "    \"seed\": 42, \"img_size\": 100, \"batch_size\": 32, \"num_workers\": 0,\n",
    "    \"cap_per_class\": 200, \"mode\": \"grayscale\",\n",
    "    \"fr360_train\": \"../Dataset/Training\",\n",
    "    \"fr360_test\":  \"../Dataset/Test\",\n",
    "    \"fresh_root\":  \"../Dataset-hybrid/fresh_rotten/train\",\n",
    "    \"f262_root\":   \"../Dataset-hybrid/fruit262_split\",\n",
    "    \"canonical_classes\": list(class_names),\n",
    "    \"fresh_map\": dict(FRESH_MAP),\n",
    "    \"f262_map\":  dict(F262_MAP),\n",
    "}\n",
    "ensure_dir(\"../configs\")\n",
    "with open(\"../configs/dataset_config.json\",\"w\",encoding=\"utf-8\") as f:\n",
    "    json.dump(DATASET_CFG, f, indent=2)\n",
    "print(\"[INFO] Saved dataset_config.json\")\n"
   ]
  },
  {
   "cell_type": "code",
   "execution_count": null,
   "id": "b023b022-7dcd-42dc-9aef-3516cdac892d",
   "metadata": {},
   "outputs": [],
   "source": []
  }
 ],
 "metadata": {
  "kernelspec": {
   "display_name": "Python 3 (ipykernel)",
   "language": "python",
   "name": "python3"
  },
  "language_info": {
   "codemirror_mode": {
    "name": "ipython",
    "version": 3
   },
   "file_extension": ".py",
   "mimetype": "text/x-python",
   "name": "python",
   "nbconvert_exporter": "python",
   "pygments_lexer": "ipython3",
   "version": "3.11.5"
  }
 },
 "nbformat": 4,
 "nbformat_minor": 5
}
