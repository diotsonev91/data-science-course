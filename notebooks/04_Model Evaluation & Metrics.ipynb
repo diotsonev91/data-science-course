{
 "cells": [
  {
   "cell_type": "markdown",
   "id": "877c0f77-63b1-4277-8ea4-e2d3ad676b81",
   "metadata": {},
   "source": [
    "# Step 4. Model Evaluation & Metrics\n",
    "\n",
    "### In this step, we evaluate and compare our trained models (Custom CNN and MobileNetV2) to assess whether they meet the expectations of Hypothesis 1:\n",
    "> *\"A convolutional neural network (CNN) can accurately classify fruit images into 8 classes.\"*\n",
    "\n",
    "We perform the following evaluations:\n",
    "\n",
    "1. **Classification Report**\n",
    "   - Computes precision, recall, and F1-score for each fruit class.\n",
    "   - Helps us understand how well each model predicts individual categories.\n",
    "\n",
    "2. **Confusion Matrix**\n",
    "   - A matrix showing how often classes are correctly or incorrectly predicted.\n",
    "   - Reveals systematic misclassifications (e.g., between visually similar fruits).\n",
    "\n",
    "3. **Overall Accuracy**\n",
    "   - The percentage of correctly predicted images in the test set.\n",
    "   - Provides a straightforward benchmark for comparing models.\n",
    "\n",
    "4. **Learning Curves**\n",
    "   - Plots of training loss and validation accuracy over epochs.\n",
    "   - Allow us to compare convergence speed and detect overfitting/underfitting.\n",
    "\n",
    "These metrics provide insight into the **strengths and weaknesses of each approach** (lightweight custom CNN vs. pretrained MobileNetV2), and allow us to determine whether the models are suitable for real-world use or require further improvement.\n"
   ]
  },
  {
   "cell_type": "markdown",
   "id": "a3b0274a-ba4d-4194-ad89-bd736d18d83f",
   "metadata": {},
   "source": [
    "### 4.1 Training MobileNetV2 Variants\n",
    "Here we fine-tune MobileNetV2 under four conditions:\n",
    "1. Grayscale + MaxPool  \n",
    "2. Grayscale + AdaptiveAvgPool  \n",
    "3. RGB with Noise (augmentation)  \n",
    "4. RGB Clean (no augmentation)  \n",
    "\n",
    "The goal is to compare these transfer learning results with our custom CNNs from Step 3.\n"
   ]
  },
  {
   "cell_type": "code",
   "execution_count": 6,
   "id": "4b97703d-1f55-4d59-8030-a15e698b8164",
   "metadata": {},
   "outputs": [],
   "source": [
    "import sys, os\n",
    "sys.path.append(os.path.abspath(\"../src\"))\n",
    "from models.mobileNetV2compare import (\n",
    "    TrainConfig,\n",
    "    run_mobilenet_v2_experiment\n",
    ")\n"
   ]
  },
  {
   "cell_type": "code",
   "execution_count": null,
   "id": "81a76eb3-16f1-4054-9cd7-0f1e5a391991",
   "metadata": {},
   "outputs": [],
   "source": [
    "# Example 1: Grayscale + MaxPool\n",
    "cfg = TrainConfig(epochs=10, lr=1e-3, batch_size=8, ckpt_path=\"../experiments/runs/mnv2_gray_max.pt\")\n",
    "test_acc, model, test_loader, hist = run_mobilenet_v2_experiment(\n",
    "    train_dir=TRAIN_DIR, test_dir=TEST_DIR, num_classes=8,\n",
    "    cfg=cfg, input_type=\"grayscale\", pooling=\"max\",\n",
    "    experiment_name=\"MobileNetV2 Grayscale MaxPool\"\n",
    ")\n",
    "\n",
    "# Example 2: Grayscale + AdaptiveAvgPool\n",
    "cfg = TrainConfig(epochs=10, lr=1e-3, batch_size=8, ckpt_path=\"../experiments/runs/mnv2_gray_adapt.pt\")\n",
    "test_acc, model, test_loader, hist = run_mobilenet_v2_experiment(\n",
    "    train_dir=TRAIN_DIR, test_dir=TEST_DIR, num_classes=8,\n",
    "    cfg=cfg, input_type=\"grayscale\", pooling=\"adaptive\",\n",
    "    experiment_name=\"MobileNetV2 Grayscale Adaptive\"\n",
    ")\n",
    "\n",
    "# Example 3: RGB + Noise\n",
    "cfg = TrainConfig(epochs=10, lr=1e-3, batch_size=16, ckpt_path=\"../experiments/runs/mnv2_rgb_noise.pt\")\n",
    "test_acc, model, test_loader, hist = run_mobilenet_v2_experiment(\n",
    "    train_dir=TRAIN_DIR, test_dir=TEST_DIR, num_classes=8,\n",
    "    cfg=cfg, input_type=\"rgb\", use_noise=True,\n",
    "    experiment_name=\"MobileNetV2 RGB With Noise\"\n",
    ")\n",
    "\n",
    "# Example 4: RGB Clean\n",
    "cfg = TrainConfig(epochs=10, lr=1e-3, batch_size=16, ckpt_path=\"../experiments/runs/mnv2_rgb_clean.pt\")\n",
    "test_acc, model, test_loader, hist = run_mobilenet_v2_experiment(\n",
    "    train_dir=TRAIN_DIR, test_dir=TEST_DIR, num_classes=8,\n",
    "    cfg=cfg, input_type=\"rgb\", use_noise=False,\n",
    "    experiment_name=\"MobileNetV2 RGB Clean\"\n",
    ")\n"
   ]
  }
 ],
 "metadata": {
  "kernelspec": {
   "display_name": "Python 3 (ipykernel)",
   "language": "python",
   "name": "python3"
  },
  "language_info": {
   "codemirror_mode": {
    "name": "ipython",
    "version": 3
   },
   "file_extension": ".py",
   "mimetype": "text/x-python",
   "name": "python",
   "nbconvert_exporter": "python",
   "pygments_lexer": "ipython3",
   "version": "3.10.9"
  }
 },
 "nbformat": 4,
 "nbformat_minor": 5
}
